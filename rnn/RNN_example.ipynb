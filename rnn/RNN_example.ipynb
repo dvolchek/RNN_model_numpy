{
  "cells": [
    {
      "cell_type": "code",
      "source": [
        "!git clone https://github.com/dvolchek/RNN_model_numpy.git\n",
        "import shutil\n",
        "shutil.copyfile('/content/RNN_model_numpy/rnn/RNN_utils.py', 'RNN_utils.py')\n",
        "shutil.copyfile('/content/RNN_model_numpy/rnn/RNN.py', 'RNN.py')\n",
        "shutil.copyfile('/content/RNN_model_numpy/rnn/names.txt', 'names.txt')"
      ],
      "metadata": {
        "colab": {
          "base_uri": "https://localhost:8080/",
          "height": 154
        },
        "id": "-SmRm136iqca",
        "outputId": "d5b729bb-36ae-4c0d-cda6-d652c50c23c1"
      },
      "execution_count": 1,
      "outputs": [
        {
          "output_type": "stream",
          "name": "stdout",
          "text": [
            "Cloning into 'RNN_model_numpy'...\n",
            "remote: Enumerating objects: 146, done.\u001b[K\n",
            "remote: Counting objects: 100% (146/146), done.\u001b[K\n",
            "remote: Compressing objects: 100% (113/113), done.\u001b[K\n",
            "remote: Total 146 (delta 43), reused 115 (delta 28), pack-reused 0\u001b[K\n",
            "Receiving objects: 100% (146/146), 3.15 MiB | 13.32 MiB/s, done.\n",
            "Resolving deltas: 100% (43/43), done.\n"
          ]
        },
        {
          "output_type": "execute_result",
          "data": {
            "text/plain": [
              "'names.txt'"
            ],
            "application/vnd.google.colaboratory.intrinsic+json": {
              "type": "string"
            }
          },
          "metadata": {},
          "execution_count": 1
        }
      ]
    },
    {
      "cell_type": "markdown",
      "metadata": {
        "id": "L52cNvhbipWz"
      },
      "source": [
        "### RNN example\n",
        "\n",
        "In this notebook we will see an example of the RNN built in `RNN.py`. In this example we will be using the data `person_names.txt` to create new names."
      ]
    },
    {
      "cell_type": "code",
      "execution_count": 2,
      "metadata": {
        "id": "RN9SYIWhipW1"
      },
      "outputs": [],
      "source": [
        "import numpy as np\n",
        "from RNN import RNNModel\n",
        "from RNN_utils import SGD, one_hot_encoding"
      ]
    },
    {
      "cell_type": "markdown",
      "metadata": {
        "id": "Pk1LBZnZipW2"
      },
      "source": [
        "Lets set the random.seed in order to generate always the same weights."
      ]
    },
    {
      "cell_type": "code",
      "execution_count": 3,
      "metadata": {
        "id": "ahYgIz7VipW2"
      },
      "outputs": [],
      "source": [
        "np.random.seed(1)"
      ]
    },
    {
      "cell_type": "markdown",
      "metadata": {
        "id": "fIbtd2c8ipW3"
      },
      "source": [
        "### Data\n",
        "The data contains 18239 names."
      ]
    },
    {
      "cell_type": "code",
      "execution_count": 4,
      "metadata": {
        "id": "JPGBhzGGipW3"
      },
      "outputs": [],
      "source": [
        "person_names = open('names.txt', 'r').read()\n",
        "person_names= person_names.lower()\n",
        "characters = list(set(person_names))\n",
        "\n",
        "character_to_index = {character:index for index,character in enumerate(sorted(characters))}\n",
        "index_to_character = {index:character for index,character in enumerate(sorted(characters))}\n",
        "\n",
        "with open(\"names.txt\") as f:\n",
        "    person_names = f.readlines()\n",
        "\n",
        "person_names = [name.lower().strip() for name in person_names]\n",
        "np.random.shuffle(person_names)"
      ]
    },
    {
      "cell_type": "markdown",
      "metadata": {
        "id": "L-SHKww-ipW3"
      },
      "source": [
        "Example of some of the names contained in person_names.txt"
      ]
    },
    {
      "cell_type": "code",
      "execution_count": 5,
      "metadata": {
        "colab": {
          "base_uri": "https://localhost:8080/"
        },
        "id": "WfA11brMipW4",
        "outputId": "6780b05e-514f-4483-f696-d7a0a2156870"
      },
      "outputs": [
        {
          "output_type": "stream",
          "name": "stdout",
          "text": [
            "['ракип', 'айро', 'катаюн', 'микаиль', 'жанриэта']\n"
          ]
        }
      ],
      "source": [
        "print(person_names[:5])"
      ]
    },
    {
      "cell_type": "markdown",
      "metadata": {
        "id": "aYZW9EPyipW5"
      },
      "source": [
        "### Model\n",
        "\n",
        "#### Define the model"
      ]
    },
    {
      "cell_type": "code",
      "execution_count": 6,
      "metadata": {
        "id": "eI6CG-aFipW5"
      },
      "outputs": [],
      "source": [
        "alphabet = len(character_to_index.keys())\n",
        "\n",
        "num_epochs = 40001\n",
        "input_dim = alphabet\n",
        "output_dim = alphabet\n",
        "hidden_dim = 70\n",
        "\n",
        "# initialize and define the model hyperparamaters\n",
        "model = RNNModel(input_dim, output_dim, hidden_dim)\n",
        "optim = SGD(lr=0.001)\n",
        "costs = []"
      ]
    },
    {
      "cell_type": "markdown",
      "metadata": {
        "id": "xlYaBPxmipW5"
      },
      "source": [
        "#### Train the model"
      ]
    },
    {
      "cell_type": "code",
      "execution_count": 8,
      "metadata": {
        "scrolled": false,
        "colab": {
          "base_uri": "https://localhost:8080/",
          "height": 967,
          "referenced_widgets": [
            "ce8021238a514cb09db42e0c5b750e38",
            "3ada09cc5bf740efb06e734e5915edb6",
            "54abaabb045f49a79589286188305b5f",
            "4892d7944fa84f73806d3c4e594f5150",
            "3719288d2c094e888f2b0c18213f9449",
            "0241e8aeafb4422ea33b5bbe83d63070",
            "07708e0d225e4115a1acaf52a366a6a4",
            "cb16a2cc21be4cbf8a846fa043db4228",
            "5cf27718793b4d4b81bce18ccb6d21aa",
            "3fe374e495bf4499932dba48f8f337a3",
            "4aa476f0f8a74243a9f032bd2bb2ddd2"
          ]
        },
        "id": "prgqYWn5ipW6",
        "outputId": "c6228e82-3d29-454a-b6fd-c062eef0fe62"
      },
      "outputs": [
        {
          "output_type": "display_data",
          "data": {
            "text/plain": [
              "  0%|          | 0/40001 [00:00<?, ?it/s]"
            ],
            "application/vnd.jupyter.widget-view+json": {
              "version_major": 2,
              "version_minor": 0,
              "model_id": "ce8021238a514cb09db42e0c5b750e38"
            }
          },
          "metadata": {}
        },
        {
          "output_type": "stream",
          "name": "stdout",
          "text": [
            "Cost after iteration 0: 21.022256\n",
            "Names created: \n",
            "\n",
            "\n",
            "\n",
            "цяецтедщаюхзпву\n",
            "ц\n",
            "\n",
            "ижё\n",
            "\n",
            "Cost after iteration 10000: 32.949204\n",
            "Names created: \n",
            "\n",
            "незуатилий\n",
            "\n",
            "кобула\n",
            "\n",
            "илалтарии\n",
            "\n",
            "паасияша\n",
            "\n",
            "Cost after iteration 20000: 15.378306\n",
            "Names created: \n",
            "\n",
            "пел\n",
            "\n",
            "чбогион\n",
            "\n",
            "аооба\n",
            "\n",
            "штеротза\n",
            "\n",
            "Cost after iteration 30000: 15.791314\n",
            "Names created: \n",
            "\n",
            "аршаф\n",
            "\n",
            "йодрилон\n",
            "\n",
            "рентсен\n",
            "\n",
            "алщри\n",
            "\n",
            "Cost after iteration 40000: 10.451038\n",
            "Names created: \n",
            "\n",
            "ажелох\n",
            "\n",
            "серандя\n",
            "\n",
            "банальди\n",
            "\n",
            "абфетбин\n",
            "\n"
          ]
        }
      ],
      "source": [
        "from tqdm.notebook import tqdm\n",
        "# Training\n",
        "for epoch in tqdm(range(num_epochs)):\n",
        "\n",
        "    # create the X inputs and Y labels\n",
        "    index = epoch % len(person_names)\n",
        "    X = [None] + [character_to_index[ch] for ch in person_names[index]]\n",
        "    Y = X[1:] + [character_to_index[\"\\n\"]]\n",
        "\n",
        "    # transform the input X and label Y into one hot enconding.\n",
        "    X = one_hot_encoding(X, input_dim)\n",
        "    Y = one_hot_encoding(Y, output_dim)\n",
        "\n",
        "    # steps of the model\n",
        "    model.forward(X)\n",
        "    cost = model.loss(Y)\n",
        "    model.backward()\n",
        "    # clip gradients\n",
        "    model.clip(clip_value=1)\n",
        "    # optimize\n",
        "    model.optimize(optim)\n",
        "\n",
        "    if epoch % 10000 == 0:\n",
        "        print (\"Cost after iteration %d: %f\" % (epoch, cost))\n",
        "        costs.append(cost)\n",
        "\n",
        "        print('Names created:', '\\n')\n",
        "        for i in range(4):\n",
        "            name = model.generate_names(index_to_character)\n",
        "            print(name)"
      ]
    },
    {
      "cell_type": "code",
      "source": [
        "model.generate_names(index_to_character)"
      ],
      "metadata": {
        "colab": {
          "base_uri": "https://localhost:8080/",
          "height": 35
        },
        "id": "ZkyDgG_6nlQn",
        "outputId": "9ab9ed37-b1d8-4dd9-f3d1-467f50e451b1"
      },
      "execution_count": 18,
      "outputs": [
        {
          "output_type": "execute_result",
          "data": {
            "text/plain": [
              "'уувибаве\\n'"
            ],
            "application/vnd.google.colaboratory.intrinsic+json": {
              "type": "string"
            }
          },
          "metadata": {},
          "execution_count": 18
        }
      ]
    }
  ],
  "metadata": {
    "kernelspec": {
      "display_name": "mynet",
      "language": "python",
      "name": "mynet"
    },
    "language_info": {
      "codemirror_mode": {
        "name": "ipython",
        "version": 3
      },
      "file_extension": ".py",
      "mimetype": "text/x-python",
      "name": "python",
      "nbconvert_exporter": "python",
      "pygments_lexer": "ipython3",
      "version": "3.8.5"
    },
    "colab": {
      "provenance": []
    },
    "widgets": {
      "application/vnd.jupyter.widget-state+json": {
        "ce8021238a514cb09db42e0c5b750e38": {
          "model_module": "@jupyter-widgets/controls",
          "model_name": "HBoxModel",
          "model_module_version": "1.5.0",
          "state": {
            "_dom_classes": [],
            "_model_module": "@jupyter-widgets/controls",
            "_model_module_version": "1.5.0",
            "_model_name": "HBoxModel",
            "_view_count": null,
            "_view_module": "@jupyter-widgets/controls",
            "_view_module_version": "1.5.0",
            "_view_name": "HBoxView",
            "box_style": "",
            "children": [
              "IPY_MODEL_3ada09cc5bf740efb06e734e5915edb6",
              "IPY_MODEL_54abaabb045f49a79589286188305b5f",
              "IPY_MODEL_4892d7944fa84f73806d3c4e594f5150"
            ],
            "layout": "IPY_MODEL_3719288d2c094e888f2b0c18213f9449"
          }
        },
        "3ada09cc5bf740efb06e734e5915edb6": {
          "model_module": "@jupyter-widgets/controls",
          "model_name": "HTMLModel",
          "model_module_version": "1.5.0",
          "state": {
            "_dom_classes": [],
            "_model_module": "@jupyter-widgets/controls",
            "_model_module_version": "1.5.0",
            "_model_name": "HTMLModel",
            "_view_count": null,
            "_view_module": "@jupyter-widgets/controls",
            "_view_module_version": "1.5.0",
            "_view_name": "HTMLView",
            "description": "",
            "description_tooltip": null,
            "layout": "IPY_MODEL_0241e8aeafb4422ea33b5bbe83d63070",
            "placeholder": "​",
            "style": "IPY_MODEL_07708e0d225e4115a1acaf52a366a6a4",
            "value": "100%"
          }
        },
        "54abaabb045f49a79589286188305b5f": {
          "model_module": "@jupyter-widgets/controls",
          "model_name": "FloatProgressModel",
          "model_module_version": "1.5.0",
          "state": {
            "_dom_classes": [],
            "_model_module": "@jupyter-widgets/controls",
            "_model_module_version": "1.5.0",
            "_model_name": "FloatProgressModel",
            "_view_count": null,
            "_view_module": "@jupyter-widgets/controls",
            "_view_module_version": "1.5.0",
            "_view_name": "ProgressView",
            "bar_style": "success",
            "description": "",
            "description_tooltip": null,
            "layout": "IPY_MODEL_cb16a2cc21be4cbf8a846fa043db4228",
            "max": 40001,
            "min": 0,
            "orientation": "horizontal",
            "style": "IPY_MODEL_5cf27718793b4d4b81bce18ccb6d21aa",
            "value": 40001
          }
        },
        "4892d7944fa84f73806d3c4e594f5150": {
          "model_module": "@jupyter-widgets/controls",
          "model_name": "HTMLModel",
          "model_module_version": "1.5.0",
          "state": {
            "_dom_classes": [],
            "_model_module": "@jupyter-widgets/controls",
            "_model_module_version": "1.5.0",
            "_model_name": "HTMLModel",
            "_view_count": null,
            "_view_module": "@jupyter-widgets/controls",
            "_view_module_version": "1.5.0",
            "_view_name": "HTMLView",
            "description": "",
            "description_tooltip": null,
            "layout": "IPY_MODEL_3fe374e495bf4499932dba48f8f337a3",
            "placeholder": "​",
            "style": "IPY_MODEL_4aa476f0f8a74243a9f032bd2bb2ddd2",
            "value": " 40001/40001 [00:47&lt;00:00, 883.18it/s]"
          }
        },
        "3719288d2c094e888f2b0c18213f9449": {
          "model_module": "@jupyter-widgets/base",
          "model_name": "LayoutModel",
          "model_module_version": "1.2.0",
          "state": {
            "_model_module": "@jupyter-widgets/base",
            "_model_module_version": "1.2.0",
            "_model_name": "LayoutModel",
            "_view_count": null,
            "_view_module": "@jupyter-widgets/base",
            "_view_module_version": "1.2.0",
            "_view_name": "LayoutView",
            "align_content": null,
            "align_items": null,
            "align_self": null,
            "border": null,
            "bottom": null,
            "display": null,
            "flex": null,
            "flex_flow": null,
            "grid_area": null,
            "grid_auto_columns": null,
            "grid_auto_flow": null,
            "grid_auto_rows": null,
            "grid_column": null,
            "grid_gap": null,
            "grid_row": null,
            "grid_template_areas": null,
            "grid_template_columns": null,
            "grid_template_rows": null,
            "height": null,
            "justify_content": null,
            "justify_items": null,
            "left": null,
            "margin": null,
            "max_height": null,
            "max_width": null,
            "min_height": null,
            "min_width": null,
            "object_fit": null,
            "object_position": null,
            "order": null,
            "overflow": null,
            "overflow_x": null,
            "overflow_y": null,
            "padding": null,
            "right": null,
            "top": null,
            "visibility": null,
            "width": null
          }
        },
        "0241e8aeafb4422ea33b5bbe83d63070": {
          "model_module": "@jupyter-widgets/base",
          "model_name": "LayoutModel",
          "model_module_version": "1.2.0",
          "state": {
            "_model_module": "@jupyter-widgets/base",
            "_model_module_version": "1.2.0",
            "_model_name": "LayoutModel",
            "_view_count": null,
            "_view_module": "@jupyter-widgets/base",
            "_view_module_version": "1.2.0",
            "_view_name": "LayoutView",
            "align_content": null,
            "align_items": null,
            "align_self": null,
            "border": null,
            "bottom": null,
            "display": null,
            "flex": null,
            "flex_flow": null,
            "grid_area": null,
            "grid_auto_columns": null,
            "grid_auto_flow": null,
            "grid_auto_rows": null,
            "grid_column": null,
            "grid_gap": null,
            "grid_row": null,
            "grid_template_areas": null,
            "grid_template_columns": null,
            "grid_template_rows": null,
            "height": null,
            "justify_content": null,
            "justify_items": null,
            "left": null,
            "margin": null,
            "max_height": null,
            "max_width": null,
            "min_height": null,
            "min_width": null,
            "object_fit": null,
            "object_position": null,
            "order": null,
            "overflow": null,
            "overflow_x": null,
            "overflow_y": null,
            "padding": null,
            "right": null,
            "top": null,
            "visibility": null,
            "width": null
          }
        },
        "07708e0d225e4115a1acaf52a366a6a4": {
          "model_module": "@jupyter-widgets/controls",
          "model_name": "DescriptionStyleModel",
          "model_module_version": "1.5.0",
          "state": {
            "_model_module": "@jupyter-widgets/controls",
            "_model_module_version": "1.5.0",
            "_model_name": "DescriptionStyleModel",
            "_view_count": null,
            "_view_module": "@jupyter-widgets/base",
            "_view_module_version": "1.2.0",
            "_view_name": "StyleView",
            "description_width": ""
          }
        },
        "cb16a2cc21be4cbf8a846fa043db4228": {
          "model_module": "@jupyter-widgets/base",
          "model_name": "LayoutModel",
          "model_module_version": "1.2.0",
          "state": {
            "_model_module": "@jupyter-widgets/base",
            "_model_module_version": "1.2.0",
            "_model_name": "LayoutModel",
            "_view_count": null,
            "_view_module": "@jupyter-widgets/base",
            "_view_module_version": "1.2.0",
            "_view_name": "LayoutView",
            "align_content": null,
            "align_items": null,
            "align_self": null,
            "border": null,
            "bottom": null,
            "display": null,
            "flex": null,
            "flex_flow": null,
            "grid_area": null,
            "grid_auto_columns": null,
            "grid_auto_flow": null,
            "grid_auto_rows": null,
            "grid_column": null,
            "grid_gap": null,
            "grid_row": null,
            "grid_template_areas": null,
            "grid_template_columns": null,
            "grid_template_rows": null,
            "height": null,
            "justify_content": null,
            "justify_items": null,
            "left": null,
            "margin": null,
            "max_height": null,
            "max_width": null,
            "min_height": null,
            "min_width": null,
            "object_fit": null,
            "object_position": null,
            "order": null,
            "overflow": null,
            "overflow_x": null,
            "overflow_y": null,
            "padding": null,
            "right": null,
            "top": null,
            "visibility": null,
            "width": null
          }
        },
        "5cf27718793b4d4b81bce18ccb6d21aa": {
          "model_module": "@jupyter-widgets/controls",
          "model_name": "ProgressStyleModel",
          "model_module_version": "1.5.0",
          "state": {
            "_model_module": "@jupyter-widgets/controls",
            "_model_module_version": "1.5.0",
            "_model_name": "ProgressStyleModel",
            "_view_count": null,
            "_view_module": "@jupyter-widgets/base",
            "_view_module_version": "1.2.0",
            "_view_name": "StyleView",
            "bar_color": null,
            "description_width": ""
          }
        },
        "3fe374e495bf4499932dba48f8f337a3": {
          "model_module": "@jupyter-widgets/base",
          "model_name": "LayoutModel",
          "model_module_version": "1.2.0",
          "state": {
            "_model_module": "@jupyter-widgets/base",
            "_model_module_version": "1.2.0",
            "_model_name": "LayoutModel",
            "_view_count": null,
            "_view_module": "@jupyter-widgets/base",
            "_view_module_version": "1.2.0",
            "_view_name": "LayoutView",
            "align_content": null,
            "align_items": null,
            "align_self": null,
            "border": null,
            "bottom": null,
            "display": null,
            "flex": null,
            "flex_flow": null,
            "grid_area": null,
            "grid_auto_columns": null,
            "grid_auto_flow": null,
            "grid_auto_rows": null,
            "grid_column": null,
            "grid_gap": null,
            "grid_row": null,
            "grid_template_areas": null,
            "grid_template_columns": null,
            "grid_template_rows": null,
            "height": null,
            "justify_content": null,
            "justify_items": null,
            "left": null,
            "margin": null,
            "max_height": null,
            "max_width": null,
            "min_height": null,
            "min_width": null,
            "object_fit": null,
            "object_position": null,
            "order": null,
            "overflow": null,
            "overflow_x": null,
            "overflow_y": null,
            "padding": null,
            "right": null,
            "top": null,
            "visibility": null,
            "width": null
          }
        },
        "4aa476f0f8a74243a9f032bd2bb2ddd2": {
          "model_module": "@jupyter-widgets/controls",
          "model_name": "DescriptionStyleModel",
          "model_module_version": "1.5.0",
          "state": {
            "_model_module": "@jupyter-widgets/controls",
            "_model_module_version": "1.5.0",
            "_model_name": "DescriptionStyleModel",
            "_view_count": null,
            "_view_module": "@jupyter-widgets/base",
            "_view_module_version": "1.2.0",
            "_view_name": "StyleView",
            "description_width": ""
          }
        }
      }
    }
  },
  "nbformat": 4,
  "nbformat_minor": 0
}