{
  "cells": [
    {
      "cell_type": "code",
      "source": [
        "!git clone https://github.com/dvolchek/RNN_model_numpy.git\n",
        "import shutil\n",
        "shutil.copyfile('/content/RNN_model_numpy/rnn/RNN_utils.py', 'RNN_utils.py')\n",
        "shutil.copyfile('/content/RNN_model_numpy/rnn/RNN.py', 'RNN.py')\n",
        "shutil.copyfile('/content/RNN_model_numpy/rnn/names.txt', 'names.txt')"
      ],
      "metadata": {
        "colab": {
          "base_uri": "https://localhost:8080/",
          "height": 154
        },
        "id": "-SmRm136iqca",
        "outputId": "2f4cd627-b609-4a88-838a-e4a789d5be17"
      },
      "execution_count": null,
      "outputs": [
        {
          "output_type": "stream",
          "name": "stdout",
          "text": [
            "Cloning into 'RNN_model_numpy'...\n",
            "remote: Enumerating objects: 169, done.\u001b[K\n",
            "remote: Counting objects: 100% (169/169), done.\u001b[K\n",
            "remote: Compressing objects: 100% (128/128), done.\u001b[K\n",
            "remote: Total 169 (delta 57), reused 129 (delta 36), pack-reused 0\u001b[K\n",
            "Receiving objects: 100% (169/169), 3.16 MiB | 7.04 MiB/s, done.\n",
            "Resolving deltas: 100% (57/57), done.\n"
          ]
        },
        {
          "output_type": "execute_result",
          "data": {
            "text/plain": [
              "'names.txt'"
            ],
            "application/vnd.google.colaboratory.intrinsic+json": {
              "type": "string"
            }
          },
          "metadata": {},
          "execution_count": 1
        }
      ]
    },
    {
      "cell_type": "markdown",
      "metadata": {
        "id": "L52cNvhbipWz"
      },
      "source": [
        "### RNN example\n",
        "\n",
        "In this notebook we will see an example of the RNN built in `RNN.py`. In this example we will be using the data `person_names.txt` to create new names."
      ]
    },
    {
      "cell_type": "code",
      "execution_count": null,
      "metadata": {
        "id": "RN9SYIWhipW1"
      },
      "outputs": [],
      "source": [
        "import numpy as np\n",
        "from RNN import RNNModel\n",
        "from RNN_utils import SGD, one_hot_encoding, Tanh, Softmax, CrossEntropyLoss"
      ]
    },
    {
      "cell_type": "markdown",
      "metadata": {
        "id": "Pk1LBZnZipW2"
      },
      "source": [
        "Lets set the random.seed in order to generate always the same weights."
      ]
    },
    {
      "cell_type": "code",
      "execution_count": null,
      "metadata": {
        "id": "ahYgIz7VipW2"
      },
      "outputs": [],
      "source": [
        "np.random.seed(1)"
      ]
    },
    {
      "cell_type": "markdown",
      "metadata": {
        "id": "fIbtd2c8ipW3"
      },
      "source": [
        "### Data\n",
        "The data contains 18239 names."
      ]
    },
    {
      "cell_type": "code",
      "execution_count": null,
      "metadata": {
        "id": "JPGBhzGGipW3"
      },
      "outputs": [],
      "source": [
        "person_names = open('names.txt', 'r').read()\n",
        "person_names= person_names.lower()\n",
        "characters = list(set(person_names))\n",
        "\n",
        "character_to_index = {character:index for index,character in enumerate(sorted(characters))}\n",
        "index_to_character = {index:character for index,character in enumerate(sorted(characters))}\n",
        "\n",
        "with open(\"names.txt\") as f:\n",
        "    person_names = f.readlines()\n",
        "\n",
        "person_names = [name.lower().strip() for name in person_names]\n",
        "np.random.shuffle(person_names)"
      ]
    },
    {
      "cell_type": "markdown",
      "metadata": {
        "id": "L-SHKww-ipW3"
      },
      "source": [
        "Example of some of the names contained in person_names.txt"
      ]
    },
    {
      "cell_type": "code",
      "execution_count": null,
      "metadata": {
        "colab": {
          "base_uri": "https://localhost:8080/"
        },
        "id": "WfA11brMipW4",
        "outputId": "73ff2954-1c91-4995-f0d8-5526eb6e4dd0"
      },
      "outputs": [
        {
          "output_type": "stream",
          "name": "stdout",
          "text": [
            "['ракип', 'айро', 'катаюн', 'микаиль', 'жанриэта']\n"
          ]
        }
      ],
      "source": [
        "print(person_names[:5])"
      ]
    },
    {
      "cell_type": "code",
      "source": [],
      "metadata": {
        "id": "eKYA6OKOjS0h"
      },
      "execution_count": null,
      "outputs": []
    },
    {
      "cell_type": "markdown",
      "metadata": {
        "id": "aYZW9EPyipW5"
      },
      "source": [
        "### Model\n",
        "\n",
        "#### Define the model"
      ]
    },
    {
      "cell_type": "code",
      "execution_count": null,
      "metadata": {
        "id": "eI6CG-aFipW5"
      },
      "outputs": [],
      "source": [
        "alphabet = len(character_to_index.keys())\n",
        "\n",
        "num_epochs = 40000\n",
        "input_dim = alphabet\n",
        "output_dim = alphabet\n",
        "hidden_dim = 100\n",
        "\n",
        "# initialize and define the model hyperparamaters\n",
        "model = RNNModel(input_dim, output_dim, hidden_dim)\n",
        "optim = SGD(lr=0.001)\n",
        "costs = []"
      ]
    },
    {
      "cell_type": "code",
      "source": [],
      "metadata": {
        "id": "R3qPS8lhh5nA"
      },
      "execution_count": null,
      "outputs": []
    },
    {
      "cell_type": "markdown",
      "metadata": {
        "id": "xlYaBPxmipW5"
      },
      "source": [
        "#### Train the model"
      ]
    },
    {
      "cell_type": "code",
      "execution_count": null,
      "metadata": {
        "scrolled": false,
        "colab": {
          "base_uri": "https://localhost:8080/",
          "height": 474,
          "referenced_widgets": [
            "ad295d4e2c614b6e9a8461e3fefaf473",
            "93fa5345e8f44584909ae13a527e3518",
            "460d67d0e5ff4d808d71b49275567a36",
            "92a754d4a97a4143803e13ecb2b574f3",
            "e866676d08da452ebe34b921bea6ffec",
            "6b72144fd753463cb294671017b09caf",
            "24d9dfd0f11341fab53bd36d854b4f91",
            "84eb5643546443ff9cf41da16fcde7f7",
            "797ddf028ce34d2fa0073384a8f58aee",
            "fffc0a83f69a423ebee0bb44c9fdc8c0",
            "46dc6ed4a79e4366a17c48b7bca6a426"
          ]
        },
        "id": "prgqYWn5ipW6",
        "outputId": "d541af90-2d94-43f4-e41b-da97147c6adb"
      },
      "outputs": [
        {
          "output_type": "display_data",
          "data": {
            "text/plain": [
              "  0%|          | 0/40001 [00:00<?, ?it/s]"
            ],
            "application/vnd.jupyter.widget-view+json": {
              "version_major": 2,
              "version_minor": 0,
              "model_id": "ad295d4e2c614b6e9a8461e3fefaf473"
            }
          },
          "metadata": {}
        },
        {
          "output_type": "stream",
          "name": "stdout",
          "text": [
            "Loss после эпохи 0: 21.732622\n",
            "Сгенерированные имена: \n",
            "\n",
            "хрйблогйчц  |    |  бйчрятщрзкьшфка  |  кьагьоыбкжуенцх\n",
            "--------------------------------------\n",
            "Loss после эпохи 10000: 34.402738\n",
            "Сгенерированные имена: \n",
            "\n",
            "сзуйия  |  блонелд  |  фарирада  |  идан\n",
            "--------------------------------------\n",
            "Loss после эпохи 20000: 15.229887\n",
            "Сгенерированные имена: \n",
            "\n",
            "осламинлй  |  асмал  |  эуман  |  сакндон\n",
            "--------------------------------------\n",
            "Loss после эпохи 30000: 15.725292\n",
            "Сгенерированные имена: \n",
            "\n",
            "жакомала  |  дакминма  |  илуна  |  влидория\n",
            "--------------------------------------\n",
            "Loss после эпохи 40000: 10.700924\n",
            "Сгенерированные имена: \n",
            "\n",
            "агуфаам  |  тжанческа  |  аэврма  |  гиланат\n",
            "--------------------------------------\n"
          ]
        }
      ],
      "source": [
        "from tqdm.notebook import tqdm\n",
        "# Training\n",
        "for epoch in tqdm(range(num_epochs+1)):\n",
        "\n",
        "    # create the X inputs and Y labels\n",
        "    index = epoch % len(person_names)\n",
        "    X = [None] + [character_to_index[ch] for ch in person_names[index]]\n",
        "    Y = X[1:] + [character_to_index[\"\\n\"]]\n",
        "\n",
        "    # transform the input X and label Y into one hot enconding.\n",
        "    X = one_hot_encoding(X, input_dim)\n",
        "    Y = one_hot_encoding(Y, output_dim)\n",
        "\n",
        "    # steps of the model\n",
        "    model.forward(X)\n",
        "    cost = model.loss(Y)\n",
        "    model.backward()\n",
        "    # clip gradients\n",
        "    model.clip(clip_value=1)\n",
        "    # optimize\n",
        "    model.optimize(optim)\n",
        "\n",
        "    if epoch % 10000 == 0:\n",
        "        print (\"Loss после эпохи %d: %f\" % (epoch, cost))\n",
        "        costs.append(cost)\n",
        "\n",
        "        print('Сгенерированные имена:', '\\n')\n",
        "        names = [model.generate_names(index_to_character).replace(\"\\n\", \"\") for i in range(4)]\n",
        "        print('  |  '.join(names))\n",
        "        print('--------------------------------------')"
      ]
    }
  ],
  "metadata": {
    "kernelspec": {
      "display_name": "mynet",
      "language": "python",
      "name": "mynet"
    },
    "language_info": {
      "codemirror_mode": {
        "name": "ipython",
        "version": 3
      },
      "file_extension": ".py",
      "mimetype": "text/x-python",
      "name": "python",
      "nbconvert_exporter": "python",
      "pygments_lexer": "ipython3",
      "version": "3.8.5"
    },
    "colab": {
      "provenance": []
    },
    "widgets": {
      "application/vnd.jupyter.widget-state+json": {
        "ad295d4e2c614b6e9a8461e3fefaf473": {
          "model_module": "@jupyter-widgets/controls",
          "model_name": "HBoxModel",
          "model_module_version": "1.5.0",
          "state": {
            "_dom_classes": [],
            "_model_module": "@jupyter-widgets/controls",
            "_model_module_version": "1.5.0",
            "_model_name": "HBoxModel",
            "_view_count": null,
            "_view_module": "@jupyter-widgets/controls",
            "_view_module_version": "1.5.0",
            "_view_name": "HBoxView",
            "box_style": "",
            "children": [
              "IPY_MODEL_93fa5345e8f44584909ae13a527e3518",
              "IPY_MODEL_460d67d0e5ff4d808d71b49275567a36",
              "IPY_MODEL_92a754d4a97a4143803e13ecb2b574f3"
            ],
            "layout": "IPY_MODEL_e866676d08da452ebe34b921bea6ffec"
          }
        },
        "93fa5345e8f44584909ae13a527e3518": {
          "model_module": "@jupyter-widgets/controls",
          "model_name": "HTMLModel",
          "model_module_version": "1.5.0",
          "state": {
            "_dom_classes": [],
            "_model_module": "@jupyter-widgets/controls",
            "_model_module_version": "1.5.0",
            "_model_name": "HTMLModel",
            "_view_count": null,
            "_view_module": "@jupyter-widgets/controls",
            "_view_module_version": "1.5.0",
            "_view_name": "HTMLView",
            "description": "",
            "description_tooltip": null,
            "layout": "IPY_MODEL_6b72144fd753463cb294671017b09caf",
            "placeholder": "​",
            "style": "IPY_MODEL_24d9dfd0f11341fab53bd36d854b4f91",
            "value": "100%"
          }
        },
        "460d67d0e5ff4d808d71b49275567a36": {
          "model_module": "@jupyter-widgets/controls",
          "model_name": "FloatProgressModel",
          "model_module_version": "1.5.0",
          "state": {
            "_dom_classes": [],
            "_model_module": "@jupyter-widgets/controls",
            "_model_module_version": "1.5.0",
            "_model_name": "FloatProgressModel",
            "_view_count": null,
            "_view_module": "@jupyter-widgets/controls",
            "_view_module_version": "1.5.0",
            "_view_name": "ProgressView",
            "bar_style": "success",
            "description": "",
            "description_tooltip": null,
            "layout": "IPY_MODEL_84eb5643546443ff9cf41da16fcde7f7",
            "max": 40001,
            "min": 0,
            "orientation": "horizontal",
            "style": "IPY_MODEL_797ddf028ce34d2fa0073384a8f58aee",
            "value": 40001
          }
        },
        "92a754d4a97a4143803e13ecb2b574f3": {
          "model_module": "@jupyter-widgets/controls",
          "model_name": "HTMLModel",
          "model_module_version": "1.5.0",
          "state": {
            "_dom_classes": [],
            "_model_module": "@jupyter-widgets/controls",
            "_model_module_version": "1.5.0",
            "_model_name": "HTMLModel",
            "_view_count": null,
            "_view_module": "@jupyter-widgets/controls",
            "_view_module_version": "1.5.0",
            "_view_name": "HTMLView",
            "description": "",
            "description_tooltip": null,
            "layout": "IPY_MODEL_fffc0a83f69a423ebee0bb44c9fdc8c0",
            "placeholder": "​",
            "style": "IPY_MODEL_46dc6ed4a79e4366a17c48b7bca6a426",
            "value": " 40001/40001 [01:51&lt;00:00, 511.38it/s]"
          }
        },
        "e866676d08da452ebe34b921bea6ffec": {
          "model_module": "@jupyter-widgets/base",
          "model_name": "LayoutModel",
          "model_module_version": "1.2.0",
          "state": {
            "_model_module": "@jupyter-widgets/base",
            "_model_module_version": "1.2.0",
            "_model_name": "LayoutModel",
            "_view_count": null,
            "_view_module": "@jupyter-widgets/base",
            "_view_module_version": "1.2.0",
            "_view_name": "LayoutView",
            "align_content": null,
            "align_items": null,
            "align_self": null,
            "border": null,
            "bottom": null,
            "display": null,
            "flex": null,
            "flex_flow": null,
            "grid_area": null,
            "grid_auto_columns": null,
            "grid_auto_flow": null,
            "grid_auto_rows": null,
            "grid_column": null,
            "grid_gap": null,
            "grid_row": null,
            "grid_template_areas": null,
            "grid_template_columns": null,
            "grid_template_rows": null,
            "height": null,
            "justify_content": null,
            "justify_items": null,
            "left": null,
            "margin": null,
            "max_height": null,
            "max_width": null,
            "min_height": null,
            "min_width": null,
            "object_fit": null,
            "object_position": null,
            "order": null,
            "overflow": null,
            "overflow_x": null,
            "overflow_y": null,
            "padding": null,
            "right": null,
            "top": null,
            "visibility": null,
            "width": null
          }
        },
        "6b72144fd753463cb294671017b09caf": {
          "model_module": "@jupyter-widgets/base",
          "model_name": "LayoutModel",
          "model_module_version": "1.2.0",
          "state": {
            "_model_module": "@jupyter-widgets/base",
            "_model_module_version": "1.2.0",
            "_model_name": "LayoutModel",
            "_view_count": null,
            "_view_module": "@jupyter-widgets/base",
            "_view_module_version": "1.2.0",
            "_view_name": "LayoutView",
            "align_content": null,
            "align_items": null,
            "align_self": null,
            "border": null,
            "bottom": null,
            "display": null,
            "flex": null,
            "flex_flow": null,
            "grid_area": null,
            "grid_auto_columns": null,
            "grid_auto_flow": null,
            "grid_auto_rows": null,
            "grid_column": null,
            "grid_gap": null,
            "grid_row": null,
            "grid_template_areas": null,
            "grid_template_columns": null,
            "grid_template_rows": null,
            "height": null,
            "justify_content": null,
            "justify_items": null,
            "left": null,
            "margin": null,
            "max_height": null,
            "max_width": null,
            "min_height": null,
            "min_width": null,
            "object_fit": null,
            "object_position": null,
            "order": null,
            "overflow": null,
            "overflow_x": null,
            "overflow_y": null,
            "padding": null,
            "right": null,
            "top": null,
            "visibility": null,
            "width": null
          }
        },
        "24d9dfd0f11341fab53bd36d854b4f91": {
          "model_module": "@jupyter-widgets/controls",
          "model_name": "DescriptionStyleModel",
          "model_module_version": "1.5.0",
          "state": {
            "_model_module": "@jupyter-widgets/controls",
            "_model_module_version": "1.5.0",
            "_model_name": "DescriptionStyleModel",
            "_view_count": null,
            "_view_module": "@jupyter-widgets/base",
            "_view_module_version": "1.2.0",
            "_view_name": "StyleView",
            "description_width": ""
          }
        },
        "84eb5643546443ff9cf41da16fcde7f7": {
          "model_module": "@jupyter-widgets/base",
          "model_name": "LayoutModel",
          "model_module_version": "1.2.0",
          "state": {
            "_model_module": "@jupyter-widgets/base",
            "_model_module_version": "1.2.0",
            "_model_name": "LayoutModel",
            "_view_count": null,
            "_view_module": "@jupyter-widgets/base",
            "_view_module_version": "1.2.0",
            "_view_name": "LayoutView",
            "align_content": null,
            "align_items": null,
            "align_self": null,
            "border": null,
            "bottom": null,
            "display": null,
            "flex": null,
            "flex_flow": null,
            "grid_area": null,
            "grid_auto_columns": null,
            "grid_auto_flow": null,
            "grid_auto_rows": null,
            "grid_column": null,
            "grid_gap": null,
            "grid_row": null,
            "grid_template_areas": null,
            "grid_template_columns": null,
            "grid_template_rows": null,
            "height": null,
            "justify_content": null,
            "justify_items": null,
            "left": null,
            "margin": null,
            "max_height": null,
            "max_width": null,
            "min_height": null,
            "min_width": null,
            "object_fit": null,
            "object_position": null,
            "order": null,
            "overflow": null,
            "overflow_x": null,
            "overflow_y": null,
            "padding": null,
            "right": null,
            "top": null,
            "visibility": null,
            "width": null
          }
        },
        "797ddf028ce34d2fa0073384a8f58aee": {
          "model_module": "@jupyter-widgets/controls",
          "model_name": "ProgressStyleModel",
          "model_module_version": "1.5.0",
          "state": {
            "_model_module": "@jupyter-widgets/controls",
            "_model_module_version": "1.5.0",
            "_model_name": "ProgressStyleModel",
            "_view_count": null,
            "_view_module": "@jupyter-widgets/base",
            "_view_module_version": "1.2.0",
            "_view_name": "StyleView",
            "bar_color": null,
            "description_width": ""
          }
        },
        "fffc0a83f69a423ebee0bb44c9fdc8c0": {
          "model_module": "@jupyter-widgets/base",
          "model_name": "LayoutModel",
          "model_module_version": "1.2.0",
          "state": {
            "_model_module": "@jupyter-widgets/base",
            "_model_module_version": "1.2.0",
            "_model_name": "LayoutModel",
            "_view_count": null,
            "_view_module": "@jupyter-widgets/base",
            "_view_module_version": "1.2.0",
            "_view_name": "LayoutView",
            "align_content": null,
            "align_items": null,
            "align_self": null,
            "border": null,
            "bottom": null,
            "display": null,
            "flex": null,
            "flex_flow": null,
            "grid_area": null,
            "grid_auto_columns": null,
            "grid_auto_flow": null,
            "grid_auto_rows": null,
            "grid_column": null,
            "grid_gap": null,
            "grid_row": null,
            "grid_template_areas": null,
            "grid_template_columns": null,
            "grid_template_rows": null,
            "height": null,
            "justify_content": null,
            "justify_items": null,
            "left": null,
            "margin": null,
            "max_height": null,
            "max_width": null,
            "min_height": null,
            "min_width": null,
            "object_fit": null,
            "object_position": null,
            "order": null,
            "overflow": null,
            "overflow_x": null,
            "overflow_y": null,
            "padding": null,
            "right": null,
            "top": null,
            "visibility": null,
            "width": null
          }
        },
        "46dc6ed4a79e4366a17c48b7bca6a426": {
          "model_module": "@jupyter-widgets/controls",
          "model_name": "DescriptionStyleModel",
          "model_module_version": "1.5.0",
          "state": {
            "_model_module": "@jupyter-widgets/controls",
            "_model_module_version": "1.5.0",
            "_model_name": "DescriptionStyleModel",
            "_view_count": null,
            "_view_module": "@jupyter-widgets/base",
            "_view_module_version": "1.2.0",
            "_view_name": "StyleView",
            "description_width": ""
          }
        }
      }
    }
  },
  "nbformat": 4,
  "nbformat_minor": 0
}